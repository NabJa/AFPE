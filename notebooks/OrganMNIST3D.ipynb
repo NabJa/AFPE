{
 "cells": [
  {
   "cell_type": "code",
   "execution_count": 2,
   "id": "7e489c93-bcdf-4e85-8774-2a464ce23244",
   "metadata": {},
   "outputs": [
    {
     "name": "stderr",
     "output_type": "stream",
     "text": [
      "IProgress not found. Please update jupyter and ipywidgets. See https://ipywidgets.readthedocs.io/en/stable/user_install.html\n",
      "[rank: 0] Seed set to 42\n"
     ]
    },
    {
     "data": {
      "text/plain": [
       "42"
      ]
     },
     "execution_count": 2,
     "metadata": {},
     "output_type": "execute_result"
    }
   ],
   "source": [
    "import sys\n",
    "from pathlib import Path\n",
    "\n",
    "import torch\n",
    "import numpy as np\n",
    "from tqdm import tqdm\n",
    "\n",
    "import pandas as pd\n",
    "import matplotlib.pyplot as plt\n",
    "import seaborn as sns\n",
    "\n",
    "# Add the parent directory of 'notebooks' to sys.path\n",
    "sys.path.append(str(Path('.').resolve().parent))\n",
    "\n",
    "# Now you can import the function\n",
    "from posenc.enums import PatchEmbeddingType, PosEncType\n",
    "from posenc.modules.mnistmodel import MNISTModel\n",
    "from posenc.datasets.medmnist import MNISTDataModule\n",
    "\n",
    "from medmnist import INFO, Evaluator\n",
    "from medmnist.evaluator import getAUC, getACC\n",
    "from medmnist import VesselMNIST3D, AdrenalMNIST3D\n",
    "\n",
    "from lightning.pytorch import Trainer, seed_everything\n",
    "from lightning.pytorch.loggers import CSVLogger\n",
    "from lightning.pytorch.callbacks import ModelCheckpoint\n",
    "\n",
    "from torchmetrics.classification import MulticlassConfusionMatrix, MulticlassAUROC, MulticlassAccuracy\n",
    "\n",
    "sns.set_theme(context=\"paper\", style=\"whitegrid\", font_scale=1.5)\n",
    "\n",
    "# # Default used by PyTorch\n",
    "# torch.set_float32_matmul_precision(\"highest\")\n",
    "# Faster, but less precise\n",
    "torch.set_float32_matmul_precision(\"high\")\n",
    "# # Even faster, but also less precise\n",
    "# torch.set_float32_matmul_precision(\"medium\")\n",
    "\n",
    "seed_everything(42)"
   ]
  },
  {
   "cell_type": "code",
   "execution_count": 3,
   "id": "56c221a4-a15b-4df1-87be-c0fac3ccb1f0",
   "metadata": {},
   "outputs": [],
   "source": [
    "base = Path(\"/sc-scratch/sc-scratch-gbm-radiomics/posenc/mnist\")\n",
    "\n",
    "MNISTROOT = \"/sc-scratch/sc-scratch-gbm-radiomics/medmnist\"\n",
    "FLAG = \"organmnist3d\".lower()\n",
    "info = INFO[FLAG]\n",
    "task = info[\"task\"]"
   ]
  },
  {
   "cell_type": "code",
   "execution_count": 4,
   "id": "b9934412-d0ed-428a-ad9c-7b35104c643b",
   "metadata": {},
   "outputs": [],
   "source": [
    "def get_organmnist_checkpoints():\n",
    "    organ_checkpoint = base / \"organmnist3d\" / \"axial\"\n",
    "    checkpoints = [str(x) for x in organ_checkpoint.rglob(\"*.ckpt\")]\n",
    "    checkpoints = checkpoints + [\n",
    "        '/sc-scratch/sc-scratch-gbm-radiomics/posenc/mnist/organmnist3d/non-square-shapes/ISOFPE-reduced/anisotropy_1_1_1/epoch=35-step=4392.ckpt',\n",
    "        '/sc-scratch/sc-scratch-gbm-radiomics/posenc/mnist/organmnist3d/non-square-shapes/ISOFPE-reduced/anisotropy_1_1_4/epoch=36-step=4514.ckpt',    \n",
    "        '/sc-scratch/sc-scratch-gbm-radiomics/posenc/mnist/organmnist3d/non-square-shapes/SINCOS/anisotropy_1_1_1/epoch=44-step=5490.ckpt',\n",
    "        '/sc-scratch/sc-scratch-gbm-radiomics/posenc/mnist/organmnist3d/non-square-shapes/SINCOS/anisotropy_1_1_4/epoch=42-step=5246.ckpt',\n",
    "    ]\n",
    "    return sorted(checkpoints)\n",
    "\n",
    "checkpoints = get_organmnist_checkpoints()"
   ]
  },
  {
   "cell_type": "code",
   "execution_count": 6,
   "id": "31c4a388-1449-467e-adab-34dcbd7b0c57",
   "metadata": {},
   "outputs": [
    {
     "name": "stderr",
     "output_type": "stream",
     "text": [
      " 17%|█▋        | 7/42 [00:57<04:26,  7.62s/it]To copy construct from a tensor, it is recommended to use sourceTensor.detach().clone() or sourceTensor.detach().clone().requires_grad_(True), rather than torch.tensor(sourceTensor).\n",
      " 45%|████▌     | 19/42 [02:35<02:55,  7.63s/it]torch.meshgrid: in an upcoming release, it will be required to pass the indexing argument. (Triggered internally at /pytorch/aten/src/ATen/native/TensorShape.cpp:4314.)\n",
      "100%|██████████| 42/42 [05:45<00:00,  8.22s/it]\n"
     ]
    }
   ],
   "source": [
    "test_result = []\n",
    "for checkpoint in tqdm(checkpoints):\n",
    "    checkpoint = Path(checkpoint)\n",
    "    method = checkpoint.parents[1].name\n",
    "    anisotropy = [int(x) for x in checkpoint.parent.name.split(\"_\")[1:]]\n",
    "\n",
    "    dm = MNISTDataModule(MNISTROOT, FLAG, anisotropy=anisotropy, interpolate=False)\n",
    "    dm.setup()\n",
    "\n",
    "    image_size = torch.tensor([64, 64, 64])\n",
    "    image_size = (image_size - 1) // torch.tensor(anisotropy) + 1\n",
    "\n",
    "    image_patch_size = torch.round(torch.tensor([4, 4, 4]) / torch.tensor(anisotropy)).clip(1).type(torch.int)\n",
    "    # image_patch_size = torch.round(torch.tensor([2, 2, 2]) / torch.tensor(anisotropy)).clip(1).type(torch.int)\n",
    "    \n",
    "    loader = dm.test_dataloader()\n",
    "    model = MNISTModel.load_from_checkpoint(checkpoint, image_patch_size=image_patch_size.tolist(), image_size=image_size.tolist(), strict=False)\n",
    "    model.eval()\n",
    "    model.cuda()\n",
    "\n",
    "    y_true = []\n",
    "    y_score = []\n",
    "    \n",
    "    with torch.no_grad():\n",
    "        for batch in loader:\n",
    "            x, y = batch\n",
    "            x = x.cuda()\n",
    "            logits = model(x)\n",
    "            probs = model.activation(logits)\n",
    "\n",
    "            y_true.append(y)\n",
    "            y_score.append(probs.cpu())\n",
    "\n",
    "    test_result.append((method, anisotropy, torch.cat(y_true).numpy(), torch.cat(y_score).numpy()))"
   ]
  },
  {
   "cell_type": "code",
   "execution_count": 7,
   "id": "57044748-aa4f-4ef8-985b-efd3a591673d",
   "metadata": {},
   "outputs": [],
   "source": [
    "def get_stratified_bootstrap_indices(y_true):\n",
    "    \"\"\"\n",
    "    Generates a set of indices for a single stratified bootstrap sample,\n",
    "    preserving the original class distribution.\n",
    "\n",
    "    Args:\n",
    "        y_true (np.array): An array-like object containing the true labels.\n",
    "                           Can be 1D (for binary/multi-class labels) or\n",
    "                           2D (for one-hot encoded labels, where argmax will be used).\n",
    "\n",
    "    Returns:\n",
    "        np.array: A 1D numpy array of indices for the bootstrap sample.\n",
    "                  These indices are shuffled.\n",
    "    \"\"\"\n",
    "    if y_true.ndim > 1 and y_true.shape[1] > 1:\n",
    "        # Assume y_true is one-hot encoded, convert to class labels\n",
    "        true_labels = np.argmax(y_true, axis=1)\n",
    "    else:\n",
    "        # y_true is already in label format (binary or multi-class labels)\n",
    "        true_labels = y_true\n",
    "\n",
    "    bootstrapped_indices = []\n",
    "    unique_classes = np.unique(true_labels)\n",
    "\n",
    "    for class_label in unique_classes:\n",
    "        # Get all original indices for the current class\n",
    "        class_indices = np.where(true_labels == class_label)[0]\n",
    "        # Number of samples for this class in the original dataset\n",
    "        n_samples_in_class = len(class_indices)\n",
    "        # Sample with replacement from these class-specific indices\n",
    "        bootstrapped_class_indices = np.random.choice(\n",
    "            class_indices,\n",
    "            size=n_samples_in_class,\n",
    "            replace=True\n",
    "        )\n",
    "        bootstrapped_indices.extend(bootstrapped_class_indices)\n",
    "\n",
    "    # Convert to numpy array and shuffle to mix samples from different classes\n",
    "    final_indices = np.array(bootstrapped_indices)\n",
    "    np.random.shuffle(final_indices)\n",
    "\n",
    "    return final_indices\n"
   ]
  },
  {
   "cell_type": "code",
   "execution_count": 49,
   "id": "b752425e-7daa-4409-b931-f65aca6eedf3",
   "metadata": {},
   "outputs": [
    {
     "name": "stderr",
     "output_type": "stream",
     "text": [
      "100%|██████████| 42/42 [00:46<00:00,  1.12s/it]\n"
     ]
    }
   ],
   "source": [
    "results = []\n",
    "n_classes = 11\n",
    "for method, anisotropy, y_true, y_score in tqdm(test_result):\n",
    "    for i in range(100):\n",
    "        if info[\"task\"] == \"binary-class\":\n",
    "            indeces = get_stratified_bootstrap_indices(y_true)\n",
    "        else:\n",
    "            indeces = np.random.choice(np.arange(y_true.shape[0]), size=y_true.shape[0])\n",
    "\n",
    "        acc = getACC(y_true[indeces, ...], y_score[indeces, ...], info[\"task\"])\n",
    "        auc = getAUC(y_true[indeces, ...], y_score[indeces, ...], info[\"task\"])\n",
    "        \n",
    "        result_dict = {\n",
    "            'method': method,\n",
    "            'anisotropy': '_'.join(map(str, anisotropy)),\n",
    "            'acc': acc,\n",
    "            'auc': auc,\n",
    "            'sample': i\n",
    "        }\n",
    "        results.append(result_dict)\n",
    "\n",
    "# Convert to DataFrame\n",
    "df = pd.DataFrame(results)"
   ]
  },
  {
   "cell_type": "code",
   "execution_count": 50,
   "id": "8a5ba150-6e10-47cd-ab26-b99e96a5b921",
   "metadata": {},
   "outputs": [],
   "source": [
    "df.method = df.method.replace({\"ISOFPE\": \"AFPE\", \"LEARNABLE\": \"Learnable\", \"NONE\": \"None\", \"SINCOS\": \"Sincos\", \"small\": \"AFPE*\"})\n",
    "col_name_translate = {\n",
    "    \"acc\": \"Accuracy\",\n",
    "    \"auc\": \"AUROC\",\n",
    "}\n",
    "df.rename(columns=col_name_translate, inplace=True)\n",
    "df.anisotropy = df.anisotropy.str.replace(\"_\", \" \")\n",
    "df.loc[(df.method == \"ISOFPE-reduced\"), \"method\"] = \"AFPE\""
   ]
  },
  {
   "cell_type": "code",
   "execution_count": 51,
   "id": "0a98f967-f2ff-4e9a-956d-65cc3149d67c",
   "metadata": {},
   "outputs": [
    {
     "name": "stdout",
     "output_type": "stream",
     "text": [
      "None 1 1 1 \\pmnum{0.992}{0.001}\n",
      "None 1 1 4 \\pmnum{0.968}{0.003}\n",
      "None 1 1 6 \\pmnum{0.964}{0.003}\n",
      "None 1 1 8 \\pmnum{0.959}{0.004}\n",
      "\n",
      "Learnable 1 1 1 \\pmnum{0.983}{0.002}\n",
      "Learnable 1 1 4 \\pmnum{0.953}{0.004}\n",
      "Learnable 1 1 6 \\pmnum{0.951}{0.004}\n",
      "Learnable 1 1 8 \\pmnum{0.945}{0.004}\n",
      "\n",
      "Sincos 1 1 1 \\pmnum{0.995}{0.001}\n",
      "Sincos 1 1 4 \\pmnum{0.98}{0.002}\n",
      "Sincos 1 1 6 \\pmnum{0.976}{0.003}\n",
      "Sincos 1 1 8 \\pmnum{0.969}{0.003}\n",
      "\n",
      "FOURIER 1 1 1 \\pmnum{0.994}{0.001}\n",
      "FOURIER 1 1 4 \\pmnum{0.979}{0.002}\n",
      "FOURIER 1 1 6 \\pmnum{0.975}{0.003}\n",
      "FOURIER 1 1 8 \\pmnum{0.958}{0.003}\n",
      "\n",
      "LFPE 1 1 1 \\pmnum{0.993}{0.001}\n",
      "LFPE 1 1 4 \\pmnum{0.968}{0.003}\n",
      "LFPE 1 1 6 \\pmnum{0.972}{0.003}\n",
      "LFPE 1 1 8 \\pmnum{0.969}{0.003}\n",
      "\n",
      "AFPE 1 1 1 \\pmnum{0.994}{0.001}\n",
      "AFPE 1 1 4 \\pmnum{0.984}{0.002}\n",
      "AFPE 1 1 6 \\pmnum{0.983}{0.002}\n",
      "AFPE 1 1 8 \\pmnum{0.972}{0.003}\n",
      "\n"
     ]
    }
   ],
   "source": [
    "auroc_results = df.groupby([\"method\", \"anisotropy\"], as_index=False).AUROC.agg([\"mean\", \"std\"]).round(3)\n",
    "\n",
    "for p in [\"None\", \"Learnable\", \"Sincos\", \"FOURIER\", \"LFPE\", \"AFPE\"]:\n",
    "    r = auroc_results[(auroc_results.method == p) & auroc_results.anisotropy.isin([\"1 1 1\", \"1 1 4\", \"1 1 6\", \"1 1 8\"])]\n",
    "\n",
    "    for i, row in r.iterrows():\n",
    "        print(f\"{row.method} {row.anisotropy} \\\\pmnum{{{row['mean']}}}{{{row['std']}}}\")\n",
    "    print()"
   ]
  },
  {
   "cell_type": "code",
   "execution_count": 66,
   "id": "bcc871ef-29cf-4b34-ae7d-e68275db73bb",
   "metadata": {},
   "outputs": [],
   "source": [
    "# df.to_csv(\"organmnist_result_bootsrapped.csv\")"
   ]
  },
  {
   "cell_type": "code",
   "execution_count": 69,
   "id": "b85a5d51-0b7c-405a-9797-38935d50079e",
   "metadata": {},
   "outputs": [
    {
     "name": "stdout",
     "output_type": "stream",
     "text": [
      "None 1 1 1 \\pmnum{0.762}{0.02}\n",
      "None 1 1 4 \\pmnum{0.85}{0.019}\n",
      "None 1 1 6 \\pmnum{0.768}{0.0}\n",
      "None 1 1 8 \\pmnum{0.816}{0.02}\n",
      "\n",
      "Learnable 1 1 1 \\pmnum{0.768}{0.0}\n",
      "Learnable 1 1 4 \\pmnum{0.822}{0.015}\n",
      "Learnable 1 1 6 \\pmnum{0.738}{0.016}\n",
      "Learnable 1 1 8 \\pmnum{0.792}{0.023}\n",
      "\n",
      "Sincos 1 1 1 \\pmnum{0.833}{0.019}\n",
      "Sincos 1 1 4 \\pmnum{0.809}{0.019}\n",
      "Sincos 1 1 6 \\pmnum{0.814}{0.018}\n",
      "Sincos 1 1 8 \\pmnum{0.824}{0.021}\n",
      "\n",
      "FOURIER 1 1 1 \\pmnum{0.819}{0.019}\n",
      "FOURIER 1 1 4 \\pmnum{0.799}{0.021}\n",
      "FOURIER 1 1 6 \\pmnum{0.768}{0.018}\n",
      "FOURIER 1 1 8 \\pmnum{0.807}{0.013}\n",
      "\n",
      "LFPE 1 1 1 \\pmnum{0.764}{0.022}\n",
      "LFPE 1 1 4 \\pmnum{0.778}{0.01}\n",
      "LFPE 1 1 6 \\pmnum{0.827}{0.019}\n",
      "LFPE 1 1 8 \\pmnum{0.797}{0.021}\n",
      "\n",
      "AFPE 1 1 1 \\pmnum{0.798}{0.018}\n",
      "AFPE 1 1 4 \\pmnum{0.809}{0.016}\n",
      "AFPE 1 1 6 \\pmnum{0.821}{0.017}\n",
      "AFPE 1 1 8 \\pmnum{0.772}{0.013}\n",
      "\n"
     ]
    }
   ],
   "source": [
    "auroc_results = df.groupby([\"method\", \"anisotropy\"], as_index=False).Accuracy.agg([\"mean\", \"std\"]).round(3)\n",
    "\n",
    "for p in [\"None\", \"Learnable\", \"Sincos\", \"FOURIER\", \"LFPE\", \"AFPE\"]:\n",
    "    r = auroc_results[(auroc_results.method == p) & auroc_results.anisotropy.isin([\"1 1 1\", \"1 1 4\", \"1 1 6\", \"1 1 8\"])]\n",
    "\n",
    "    for i, row in r.iterrows():\n",
    "        print(f\"{row.method} {row.anisotropy} \\\\pmnum{{{row['mean']}}}{{{row['std']}}}\")\n",
    "    print()"
   ]
  },
  {
   "cell_type": "code",
   "execution_count": 48,
   "id": "393a11e1-f81a-4cd9-87d6-c656f7554b3a",
   "metadata": {},
   "outputs": [
    {
     "name": "stdout",
     "output_type": "stream",
     "text": [
      "[1, 1, 2] True 0.0\n",
      "\n",
      "\n",
      "[1, 1, 3] True 0.0\n",
      "\n",
      "\n",
      "[1, 1, 5] True 0.0\n",
      "\n",
      "\n",
      "[1, 1, 6] True 0.0\n",
      "\n",
      "\n",
      "[1, 1, 8] True 0.0\n",
      "\n",
      "\n",
      "[1, 1, 1] True 0.00023\n",
      "\n",
      "\n",
      "[1, 1, 4] True 0.0\n",
      "\n",
      "\n"
     ]
    }
   ],
   "source": [
    "from collections import defaultdict\n",
    "from scipy.stats import ttest_rel\n",
    "\n",
    "stat_test_predictions = defaultdict(list)\n",
    "for method, anisotropy, y_true, y_score in test_result:\n",
    "    if method in [\"ISOFPE-reduced\", \"ISOFPE\", \"SINCOS\"]:\n",
    "        stat_test_predictions[str(anisotropy)].append((method, y_true, y_score))\n",
    "\n",
    "for anisotropy, (a, b) in stat_test_predictions.items():\n",
    "    \n",
    "    method_a, y_true_a, y_score_a = a\n",
    "    method_b, y_true_b, y_score_b = b\n",
    "\n",
    "    auc_a = []\n",
    "    auc_b = []\n",
    "    \n",
    "    for _ in range(50):\n",
    "        indeces = np.random.choice(np.arange(y_true_a.shape[0]), size=y_true_a.shape[0])\n",
    "        auc_a_ = getAUC(y_true_a[indeces, ...], y_score_a[indeces, ...], info[\"task\"])\n",
    "\n",
    "        # indeces = np.random.choice(np.arange(y_true_b.shape[0]), size=y_true_b.shape[0])\n",
    "        auc_b_ = getAUC(y_true_b[indeces, ...], y_score_b[indeces, ...], info[\"task\"])\n",
    "\n",
    "        auc_a.append(auc_a_)\n",
    "        auc_b.append(auc_b_)\n",
    "\n",
    "    statistic = ttest_rel(auc_a, auc_b)\n",
    "    print(anisotropy, statistic.pvalue < 0.05, round(statistic.pvalue, 5))\n",
    "    print()"
   ]
  },
  {
   "cell_type": "code",
   "execution_count": null,
   "id": "416c540f-dcc5-45cf-bf25-f6d0bcc99c99",
   "metadata": {},
   "outputs": [],
   "source": []
  }
 ],
 "metadata": {
  "kernelspec": {
   "display_name": "roenv",
   "language": "python",
   "name": "roenv"
  },
  "language_info": {
   "codemirror_mode": {
    "name": "ipython",
    "version": 3
   },
   "file_extension": ".py",
   "mimetype": "text/x-python",
   "name": "python",
   "nbconvert_exporter": "python",
   "pygments_lexer": "ipython3",
   "version": "3.11.11"
  }
 },
 "nbformat": 4,
 "nbformat_minor": 5
}
